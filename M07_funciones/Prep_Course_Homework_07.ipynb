{
 "cells": [
  {
   "attachments": {},
   "cell_type": "markdown",
   "metadata": {},
   "source": [
    "## Funciones"
   ]
  },
  {
   "attachments": {},
   "cell_type": "markdown",
   "metadata": {},
   "source": [
    "1) Crear una función que reciba un número como parámetro y devuelva True si es primo y False si no lo es"
   ]
  },
  {
   "cell_type": "code",
   "execution_count": 2,
   "metadata": {},
   "outputs": [],
   "source": [
    "def verificarprimo(x):\n",
    "    es_primo=True\n",
    "    for i in range(2,x):\n",
    "        if x%i==0:\n",
    "            es_primo=False\n",
    "            break\n",
    "    return es_primo"
   ]
  },
  {
   "cell_type": "code",
   "execution_count": 3,
   "metadata": {},
   "outputs": [
    {
     "data": {
      "text/plain": [
       "False"
      ]
     },
     "execution_count": 3,
     "metadata": {},
     "output_type": "execute_result"
    }
   ],
   "source": [
    "verificarprimo(74)"
   ]
  },
  {
   "attachments": {},
   "cell_type": "markdown",
   "metadata": {},
   "source": [
    "2) Utilizando la función del punto 1, realizar otra función que reciba de parámetro una lista de números y devuelva sólo aquellos que son primos en otra lista"
   ]
  },
  {
   "cell_type": "code",
   "execution_count": 4,
   "metadata": {},
   "outputs": [
    {
     "data": {
      "text/plain": [
       "[1, 2, 3, 5, 7, 11, 13, 17, 19]"
      ]
     },
     "execution_count": 4,
     "metadata": {},
     "output_type": "execute_result"
    }
   ],
   "source": [
    "lista=[1,2,3,4,5,6,7,8,9,10,11,12,13,14,15,16,17,18,19,20]\n",
    "lista2=[]\n",
    "def extraer_primos_de_lista(lista):\n",
    "    for i in lista:\n",
    "        if verificarprimo(int(i)):\n",
    "            lista2.append(i)\n",
    "    return lista2\n",
    "\n",
    "extraer_primos_de_lista(lista)\n",
    "\n"
   ]
  },
  {
   "cell_type": "code",
   "execution_count": 5,
   "metadata": {},
   "outputs": [],
   "source": [
    "def extrae_primos_de_lista(lista):\n",
    "    lista_primos = []  \n",
    "    for elemento in lista:  \n",
    "        if verificarprimo(int(elemento)):  \n",
    "            lista_primos.append(elemento)  \n",
    "    return lista_primos "
   ]
  },
  {
   "cell_type": "code",
   "execution_count": 6,
   "metadata": {},
   "outputs": [
    {
     "data": {
      "text/plain": [
       "[1, 2, 3, 5, 7, 11, 13, 17, 19]"
      ]
     },
     "execution_count": 6,
     "metadata": {},
     "output_type": "execute_result"
    }
   ],
   "source": [
    "lis_completa = [1,2,3,4,5,6,7,8,9,10,11,12,13,14,15,16,17,18,19,20]\n",
    "lista_primos = extrae_primos_de_lista(lis_completa)\n",
    "lista_primos"
   ]
  },
  {
   "attachments": {},
   "cell_type": "markdown",
   "metadata": {},
   "source": [
    "3) Crear una función que al recibir una lista de números, devuelva el que más se repite y cuántas veces lo hace. Si hay más de un \"más repetido\", que devuelva cualquiera"
   ]
  },
  {
   "cell_type": "code",
   "execution_count": 7,
   "metadata": {},
   "outputs": [],
   "source": [
    "def num_rep_de_lista(lista):\n",
    "    lista_unicos=[]\n",
    "    lista_rep=[]\n",
    "    if len(lista)==0:\n",
    "        return None\n",
    "    for e in lista:\n",
    "        if e in lista_unicos:\n",
    "            i=lista_unicos.index(e)\n",
    "            lista_rep[i]+=1\n",
    "        else:\n",
    "            lista_unicos.append(e)\n",
    "            lista_rep.append(1)\n",
    "    numero=lista_unicos[0]\n",
    "    maximo=lista_rep[0]\n",
    "    for i,e in enumerate(lista_unicos):\n",
    "        if lista_rep[i]>maximo:\n",
    "            numero=lista_unicos[i]\n",
    "            maximo=lista_rep[i]\n",
    "\n",
    "    return numero,\"Se repite\",maximo,\"veces\"\n"
   ]
  },
  {
   "cell_type": "code",
   "execution_count": 19,
   "metadata": {},
   "outputs": [
    {
     "data": {
      "text/plain": [
       "(5, 4)"
      ]
     },
     "execution_count": 19,
     "metadata": {},
     "output_type": "execute_result"
    }
   ],
   "source": [
    "lis=[1,2,3,4,5,1,1,3,4,5,5,5]\n",
    "num_rep_de_lista(lis)"
   ]
  },
  {
   "attachments": {},
   "cell_type": "markdown",
   "metadata": {},
   "source": [
    "4) A la función del punto 3, agregar un parámetro más, que permita elegir si se requiere el menor o el mayor de los mas repetidos."
   ]
  },
  {
   "cell_type": "code",
   "execution_count": 20,
   "metadata": {},
   "outputs": [],
   "source": [
    "def num_rep_de_lista(lista,menor=True):\n",
    "    lista_unicos=[]\n",
    "    lista_rep=[]\n",
    "    if len(lista)==0:\n",
    "        return None\n",
    "    if menor:\n",
    "        lista.sort()\n",
    "    else:\n",
    "        lista.sort(reverse=True)\n",
    "    for e in lista:\n",
    "        if e in lista_unicos:\n",
    "            i=lista_unicos.index(e)\n",
    "            lista_rep[i]+=1\n",
    "        else:\n",
    "            lista_unicos.append(e)\n",
    "            lista_rep.append(1)\n",
    "    numero=lista_unicos[0]\n",
    "    maximo=lista_rep[0]\n",
    "    for i,e in enumerate(lista_unicos):\n",
    "        if lista_rep[i]>maximo:\n",
    "            numero=lista_unicos[i]\n",
    "            maximo=lista_rep[i]\n",
    "    \n",
    "    return numero,maximo"
   ]
  },
  {
   "cell_type": "code",
   "execution_count": 21,
   "metadata": {},
   "outputs": [
    {
     "name": "stdout",
     "output_type": "stream",
     "text": [
      "El valor modal es 5 y se repite 4 Veces\n"
     ]
    }
   ],
   "source": [
    "uno,dos=num_rep_de_lista(lis,True)\n",
    "print('El valor modal es',uno,'y se repite',dos,'Veces')\n"
   ]
  },
  {
   "attachments": {},
   "cell_type": "markdown",
   "metadata": {},
   "source": [
    "5) Crear una función que convierta entre grados Celsius, Farenheit y Kelvin<br>\n",
    "Fórmula 1\t: (°C × 9/5) + 32 = °F<br>\n",
    "Fórmula 2\t: °C + 273.15 = °K<br>\n",
    "Debe recibir 3 parámetros: el valor, la medida de orígen y la medida de destino\n"
   ]
  },
  {
   "cell_type": "code",
   "execution_count": 41,
   "metadata": {},
   "outputs": [],
   "source": [
    "def conviertegrados(valor,origen,destino):\n",
    "    \n",
    "    resultado=0\n",
    "\n",
    "    if origen=='Celsius':\n",
    "        if destino=='Farenheit':\n",
    "            resultado=(valor*9/5)+32\n",
    "            \n",
    "        elif destino=='Celsius':\n",
    "             resultado=valor\n",
    "             \n",
    "        else:\n",
    "             resultado=(valor+273.15)\n",
    "             \n",
    "    elif origen=='Farenheit':\n",
    "        if destino=='Kelvin':\n",
    "            resultado=(5/9*(valor-32)+273.15)\n",
    "            \n",
    "        elif destino=='Celsius':\n",
    "            resultado=(valor-32)*5/9\n",
    "            \n",
    "        else:\n",
    "            resultado=valor\n",
    "    else:\n",
    "        if destino=='Celsius':\n",
    "            resultado=(valor-273.15)\n",
    "            \n",
    "        elif destino=='Farenheit':\n",
    "            resultado=(1.8*(valor-273.15)+32)\n",
    "        else:\n",
    "            resultado=valor\n",
    "                     \n",
    "        \n",
    "    return resultado"
   ]
  },
  {
   "cell_type": "code",
   "execution_count": 42,
   "metadata": {},
   "outputs": [
    {
     "name": "stdout",
     "output_type": "stream",
     "text": [
      "1 grado Celsius a Celsius: 1\n",
      "1 grado Celsius a Kelvin: 274.15\n",
      "1 grado Celsius a Farenheit: 33.8\n",
      "1 grado Kelvin a Celsius: -272.15\n",
      "1 grado Kelvin a Kelvin: 1\n",
      "1 grado Kelvin a Farenheit: -457.86999999999995\n",
      "1 grado Farenheit a Celsius: -17.22222222222222\n",
      "1 grado Farenheit a Kelvin: 255.92777777777775\n",
      "1 grado Farenheit a Farenheit: 1\n"
     ]
    }
   ],
   "source": [
    "print('1 grado Celsius a Celsius:', conviertegrados(1, 'Celsius', 'Celsius'))\n",
    "print('1 grado Celsius a Kelvin:', conviertegrados(1, 'Celsius', 'Kelvin'))\n",
    "print('1 grado Celsius a Farenheit:', conviertegrados(1, 'Celsius', 'Farenheit'))\n",
    "print('1 grado Kelvin a Celsius:', conviertegrados(1, 'Kelvin', 'Celsius'))\n",
    "print('1 grado Kelvin a Kelvin:', conviertegrados(1, 'Kelvin', 'Kelvin'))\n",
    "print('1 grado Kelvin a Farenheit:', conviertegrados(1, 'Kelvin', 'Farenheit'))\n",
    "print('1 grado Farenheit a Celsius:', conviertegrados(1, 'Farenheit', 'Celsius'))\n",
    "print('1 grado Farenheit a Kelvin:', conviertegrados(1, 'Farenheit', 'Kelvin'))\n",
    "print('1 grado Farenheit a Farenheit:', conviertegrados(1, 'Farenheit', 'Farenheit'))"
   ]
  },
  {
   "attachments": {},
   "cell_type": "markdown",
   "metadata": {},
   "source": [
    "6) Iterando una lista con los tres valores posibles de temperatura que recibe la función del punto 5, hacer un print para cada combinación de los mismos:"
   ]
  },
  {
   "cell_type": "code",
   "execution_count": 43,
   "metadata": {},
   "outputs": [
    {
     "name": "stdout",
     "output_type": "stream",
     "text": [
      "1 grado Celsius a Celsius : 1\n",
      "1 grado Celsius a Farenheit : 33.8\n",
      "1 grado Celsius a Kelvin : 274.15\n",
      "1 grado Farenheit a Celsius : -17.22222222222222\n",
      "1 grado Farenheit a Farenheit : 1\n",
      "1 grado Farenheit a Kelvin : 255.92777777777775\n",
      "1 grado Kelvin a Celsius : -272.15\n",
      "1 grado Kelvin a Farenheit : -457.86999999999995\n",
      "1 grado Kelvin a Kelvin : 1\n"
     ]
    }
   ],
   "source": [
    "metricas=['Celsius','Farenheit','Kelvin']\n",
    "\n",
    "for i in range(0,3):\n",
    "    for e in range(0,3):\n",
    "        print('1 grado',metricas[i],'a',metricas[e],':',conviertegrados(1,metricas[i],metricas[e]))"
   ]
  },
  {
   "attachments": {},
   "cell_type": "markdown",
   "metadata": {},
   "source": [
    "7) Armar una función que devuelva el factorial de un número. Tener en cuenta que el usuario puede equivocarse y enviar de parámetro un número no entero o negativo"
   ]
  },
  {
   "cell_type": "code",
   "execution_count": 98,
   "metadata": {},
   "outputs": [],
   "source": [
    "def factorial(valor):\n",
    "    if valor==0:\n",
    "        return 'El factoria de 0 es 1'\n",
    "    elif type(valor)!=int:\n",
    "        return 'el numero debe ser entero'\n",
    "    elif valor<0:\n",
    "        return 'el numero debe ser positivo'\n",
    "    elif type(valor)==float:\n",
    "        return 'El valor no es un entero'\n",
    "    else:\n",
    "        resultado=1\n",
    "        for i in range(2,(valor+1)):\n",
    "            resultado= i*resultado\n",
    "        return resultado"
   ]
  },
  {
   "cell_type": "code",
   "execution_count": 99,
   "metadata": {},
   "outputs": [
    {
     "name": "stdout",
     "output_type": "stream",
     "text": [
      "El factoria de 0 es 1\n",
      "el numero debe ser entero\n",
      "el numero debe ser positivo\n",
      "120\n",
      "el numero debe ser entero\n"
     ]
    }
   ],
   "source": [
    "print(factorial(0))\n",
    "print(factorial(2.54))\n",
    "print(factorial(-4))\n",
    "print(factorial(5))\n",
    "print(factorial('5'))"
   ]
  }
 ],
 "metadata": {
  "interpreter": {
   "hash": "c85384e4cb51c8b72350f3a8712cc8351fdc3955e32a27f9b60c6242ab125f01"
  },
  "kernelspec": {
   "display_name": "Python 3 (ipykernel)",
   "language": "python",
   "name": "python3"
  },
  "language_info": {
   "codemirror_mode": {
    "name": "ipython",
    "version": 3
   },
   "file_extension": ".py",
   "mimetype": "text/x-python",
   "name": "python",
   "nbconvert_exporter": "python",
   "pygments_lexer": "ipython3",
   "version": "3.11.4"
  }
 },
 "nbformat": 4,
 "nbformat_minor": 4
}
