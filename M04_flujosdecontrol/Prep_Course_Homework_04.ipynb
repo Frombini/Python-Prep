{
 "cells": [
  {
   "attachments": {},
   "cell_type": "markdown",
   "metadata": {},
   "source": [
    "## Flujos de Control"
   ]
  },
  {
   "attachments": {},
   "cell_type": "markdown",
   "metadata": {},
   "source": [
    "1) Crear una variable que contenga un elemento del conjunto de números enteros y luego imprimir por pantalla si es mayor o menor a cero"
   ]
  },
  {
   "cell_type": "code",
   "execution_count": 6,
   "metadata": {},
   "outputs": [
    {
     "name": "stdout",
     "output_type": "stream",
     "text": [
      "12 Es mayor a 0\n"
     ]
    }
   ],
   "source": [
    "a=12\n",
    "if a>0:\n",
    "    print(a,'Es mayor a 0')\n",
    "elif a<0:\n",
    "    print(a,'Es menor a 0')\n",
    "else:\n",
    "    print(a,'Es igual a 0')"
   ]
  },
  {
   "attachments": {},
   "cell_type": "markdown",
   "metadata": {},
   "source": [
    "2) Crear dos variables y un condicional que informe si son del mismo tipo de dato"
   ]
  },
  {
   "cell_type": "code",
   "execution_count": 14,
   "metadata": {},
   "outputs": [
    {
     "name": "stdout",
     "output_type": "stream",
     "text": [
      "Las variables a= 2 y c= perros Son de diferentes tipo de dato\n",
      "2\n",
      "<class 'int'>\n",
      "perros\n",
      "<class 'str'>\n"
     ]
    }
   ],
   "source": [
    "b=2\n",
    "c='perros'\n",
    "if type(b)==type(c):\n",
    "    print('Las variables: ',b,'y',c,'Son del mismo tipo de dato')\n",
    "else:\n",
    "    print('Las variables a=',b,'y c=',c,'Son de diferentes tipo de dato')\n",
    "print(b)\n",
    "print(type(b))\n",
    "print(c)\n",
    "print(type(c))"
   ]
  },
  {
   "attachments": {},
   "cell_type": "markdown",
   "metadata": {},
   "source": [
    "3) Para los valores enteros del 1 al 20, imprimir por pantalla si es par o impar"
   ]
  },
  {
   "cell_type": "code",
   "execution_count": 23,
   "metadata": {},
   "outputs": [
    {
     "name": "stdout",
     "output_type": "stream",
     "text": [
      "1 Es impar\n",
      "2 es par\n",
      "3 Es impar\n",
      "4 es par\n",
      "5 Es impar\n",
      "6 es par\n",
      "7 Es impar\n",
      "8 es par\n",
      "9 Es impar\n",
      "10 es par\n",
      "11 Es impar\n",
      "12 es par\n",
      "13 Es impar\n",
      "14 es par\n",
      "15 Es impar\n",
      "16 es par\n",
      "17 Es impar\n",
      "18 es par\n",
      "19 Es impar\n",
      "20 es par\n"
     ]
    }
   ],
   "source": [
    "for i in range(1,21):\n",
    "    if i%2==0:\n",
    "        print(i,'es par')\n",
    "    else:\n",
    "        print(i,'Es impar')"
   ]
  },
  {
   "attachments": {},
   "cell_type": "markdown",
   "metadata": {},
   "source": [
    "4) En un ciclo for mostrar para los valores entre 0 y 5 el resultado de elevarlo a la potencia igual a 3"
   ]
  },
  {
   "cell_type": "code",
   "execution_count": 29,
   "metadata": {},
   "outputs": [
    {
     "name": "stdout",
     "output_type": "stream",
     "text": [
      "El resultado de 0 Elevado a la 3ra potencia es: 0\n",
      "El resultado de 1 Elevado a la 3ra potencia es: 1\n",
      "El resultado de 2 Elevado a la 3ra potencia es: 8\n",
      "El resultado de 3 Elevado a la 3ra potencia es: 27\n",
      "El resultado de 4 Elevado a la 3ra potencia es: 64\n",
      "El resultado de 5 Elevado a la 3ra potencia es: 125\n"
     ]
    }
   ],
   "source": [
    "for i in range(0,6):\n",
    "    print('El resultado de',i,'Elevado a la 3ra potencia es:',i**3 )"
   ]
  },
  {
   "attachments": {},
   "cell_type": "markdown",
   "metadata": {},
   "source": [
    "5) Crear una variable que contenga un número entero y realizar un ciclo for la misma cantidad de ciclos"
   ]
  },
  {
   "cell_type": "code",
   "execution_count": 27,
   "metadata": {},
   "outputs": [
    {
     "name": "stdout",
     "output_type": "stream",
     "text": [
      "ciclo 0 variable 12\n",
      "ciclo 1 variable 12\n",
      "ciclo 2 variable 12\n",
      "ciclo 3 variable 12\n",
      "ciclo 4 variable 12\n",
      "ciclo 5 variable 12\n",
      "ciclo 6 variable 12\n",
      "ciclo 7 variable 12\n",
      "ciclo 8 variable 12\n",
      "ciclo 9 variable 12\n",
      "ciclo 10 variable 12\n",
      "ciclo 11 variable 12\n"
     ]
    }
   ],
   "source": [
    "variable=12\n",
    "for i in range(0,variable):\n",
    "    print('ciclo',i,'variable',variable)"
   ]
  },
  {
   "cell_type": "code",
   "execution_count": 30,
   "metadata": {},
   "outputs": [
    {
     "name": "stdout",
     "output_type": "stream",
     "text": [
      "0\n",
      "1\n",
      "2\n",
      "3\n",
      "4\n",
      "5\n",
      "6\n",
      "7\n",
      "8\n",
      "9\n",
      "10\n",
      "11\n"
     ]
    }
   ],
   "source": [
    "variable=12\n",
    "for i in range(0,variable):\n",
    "    print(i)"
   ]
  },
  {
   "cell_type": "code",
   "execution_count": 34,
   "metadata": {},
   "outputs": [
    {
     "name": "stdout",
     "output_type": "stream",
     "text": [
      "11\n"
     ]
    }
   ],
   "source": [
    "variable=12\n",
    "for i in range(0,variable):\n",
    "    pass  # SE UTILIZA COMO UN MARCADOR DE POSICION Y COMO RESULTADO ME DA LA CANTIDAD DE CICLOS QUE ITERO EL PROGRAMA\n",
    "print(i)"
   ]
  },
  {
   "attachments": {},
   "cell_type": "markdown",
   "metadata": {},
   "source": [
    "6) Utilizar un ciclo while para realizar el factorial de un número guardado en una variable, sólo si la variable contiene un número entero mayor a 0"
   ]
  },
  {
   "cell_type": "code",
   "execution_count": 58,
   "metadata": {},
   "outputs": [
    {
     "name": "stdout",
     "output_type": "stream",
     "text": [
      "El factorial es: 120\n"
     ]
    }
   ],
   "source": [
    "z=5\n",
    "if (type(z)==int):\n",
    "    if z>2:\n",
    "        factorial=z\n",
    "        while (z>2):\n",
    "            z=z-1\n",
    "            factorial=factorial*z\n",
    "        print('El factorial es:',factorial)\n",
    "    else:\n",
    "        print('el numero no es mayor a 0')\n",
    "else:\n",
    "    print('El numero no es entero')"
   ]
  },
  {
   "attachments": {},
   "cell_type": "markdown",
   "metadata": {},
   "source": [
    "7) Crear un ciclo for dentro de un ciclo while"
   ]
  },
  {
   "cell_type": "code",
   "execution_count": 18,
   "metadata": {},
   "outputs": [
    {
     "name": "stdout",
     "output_type": "stream",
     "text": [
      "ciclo while n: 1\n",
      "ciclo for n: 1\n",
      "ciclo while n: 2\n",
      "ciclo for n: 1\n",
      "ciclo for n: 2\n",
      "ciclo while n: 3\n",
      "ciclo for n: 1\n",
      "ciclo for n: 2\n",
      "ciclo for n: 3\n",
      "ciclo while n: 4\n",
      "ciclo for n: 1\n",
      "ciclo for n: 2\n",
      "ciclo for n: 3\n",
      "ciclo for n: 4\n"
     ]
    }
   ],
   "source": [
    "a=1\n",
    "while a<5:\n",
    "    print('ciclo while n:',str(a))\n",
    "    for i in range(1,a+1):\n",
    "        print('ciclo for n:',str(i))\n",
    "    a+=1\n"
   ]
  },
  {
   "attachments": {},
   "cell_type": "markdown",
   "metadata": {},
   "source": [
    "8) Crear un ciclo while dentro de un ciclo for"
   ]
  },
  {
   "cell_type": "code",
   "execution_count": 34,
   "metadata": {},
   "outputs": [
    {
     "name": "stdout",
     "output_type": "stream",
     "text": [
      "Ciclo for nro 1\n",
      "Ciclo while nro 4\n",
      "Ciclo while nro 3\n",
      "Ciclo while nro 2\n",
      "Ciclo while nro 1\n",
      "Ciclo for nro 2\n",
      "Ciclo while nro 4\n",
      "Ciclo while nro 3\n",
      "Ciclo while nro 2\n",
      "Ciclo while nro 1\n",
      "Ciclo for nro 3\n",
      "Ciclo while nro 4\n",
      "Ciclo while nro 3\n",
      "Ciclo while nro 2\n",
      "Ciclo while nro 1\n"
     ]
    }
   ],
   "source": [
    "n = 4\n",
    "for i in range(1, n):\n",
    "    print('Ciclo for nro ' + str(i))  # Imprime el número del ciclo for\n",
    "    \n",
    "    n_temp = n  # Almacena el valor original de n en una variable temporal\n",
    "    \n",
    "    while n_temp > 0:  # Ciclo while que se ejecuta mientras n_temp sea mayor que 0\n",
    "        print('Ciclo while nro ' + str(n_temp))  # Imprime el número del ciclo while\n",
    "        n_temp -= 1\n",
    "        \n",
    "        if n_temp <= 0:\n",
    "            break  # Sale del ciclo while cuando n_temp sea menor o igual a 0\n",
    "    "
   ]
  },
  {
   "cell_type": "code",
   "execution_count": 38,
   "metadata": {},
   "outputs": [
    {
     "name": "stdout",
     "output_type": "stream",
     "text": [
      "ciclo for n: 1\n",
      "ciclo while n: 4\n",
      "ciclo while n: 3\n",
      "ciclo while n: 2\n",
      "ciclo while n: 1\n",
      "ciclo for n: 2\n",
      "ciclo while n: 4\n",
      "ciclo while n: 3\n",
      "ciclo while n: 2\n",
      "ciclo while n: 1\n",
      "ciclo for n: 3\n",
      "ciclo while n: 4\n",
      "ciclo while n: 3\n",
      "ciclo while n: 2\n",
      "ciclo while n: 1\n"
     ]
    }
   ],
   "source": [
    "v=4\n",
    "for i in range(1,v):\n",
    "    print('ciclo for n:',i)\n",
    "    vtemp=v\n",
    "    while vtemp>0:\n",
    "        print('ciclo while n:',vtemp)\n",
    "        vtemp-=1\n",
    "\n",
    "        if vtemp <= 0:\n",
    "            break"
   ]
  },
  {
   "attachments": {},
   "cell_type": "markdown",
   "metadata": {},
   "source": [
    "9) Imprimir los números primos existentes entre 0 y 30"
   ]
  },
  {
   "cell_type": "code",
   "execution_count": 78,
   "metadata": {},
   "outputs": [
    {
     "name": "stdout",
     "output_type": "stream",
     "text": [
      "0\n",
      "1\n",
      "2\n",
      "3\n",
      "5\n",
      "7\n",
      "11\n",
      "13\n",
      "17\n",
      "19\n",
      "23\n",
      "29\n"
     ]
    }
   ],
   "source": [
    "a=0\n",
    "tope=30\n",
    "primo=True\n",
    "\n",
    "while a<tope:\n",
    "    for i in range(2,a):\n",
    "        if (a%i==0):\n",
    "            primo=False\n",
    "    if (primo):\n",
    "        print(a)\n",
    "    else:\n",
    "        primo=True\n",
    "    a+=1\n"
   ]
  },
  {
   "attachments": {},
   "cell_type": "markdown",
   "metadata": {},
   "source": [
    "10) ¿Se puede mejorar el proceso del punto 9? Utilizar las sentencias break y/ó continue para tal fin"
   ]
  },
  {
   "cell_type": "code",
   "execution_count": 80,
   "metadata": {},
   "outputs": [
    {
     "name": "stdout",
     "output_type": "stream",
     "text": [
      "0\n",
      "1\n",
      "2\n",
      "3\n",
      "5\n",
      "7\n",
      "11\n",
      "13\n",
      "17\n",
      "19\n",
      "23\n",
      "29\n"
     ]
    }
   ],
   "source": [
    "a=0\n",
    "tope=30\n",
    "primo=True\n",
    "\n",
    "while a<tope:\n",
    "    for i in range(2,a):\n",
    "        if (a%i==0):\n",
    "            primo=False\n",
    "            break\n",
    "    if (primo):\n",
    "        print(a)\n",
    "    else:\n",
    "        primo=True\n",
    "    a+=1\n"
   ]
  },
  {
   "attachments": {},
   "cell_type": "markdown",
   "metadata": {},
   "source": [
    "11) En los puntos 9 y 10, se diseño un código que encuentra números primos y además se lo optimizó. ¿Es posible saber en qué medida se optimizó?"
   ]
  },
  {
   "cell_type": "code",
   "execution_count": 83,
   "metadata": {},
   "outputs": [
    {
     "name": "stdout",
     "output_type": "stream",
     "text": [
      "0\n",
      "1\n",
      "2\n",
      "3\n",
      "5\n",
      "7\n",
      "11\n",
      "13\n",
      "17\n",
      "19\n",
      "23\n",
      "29\n",
      "Cantidad de Ciclos:378\n"
     ]
    }
   ],
   "source": [
    "a=0\n",
    "tope=30\n",
    "primo=True\n",
    "ciclos=0\n",
    "\n",
    "while a<tope:\n",
    "    for i in range(2,a):\n",
    "        ciclos+=1\n",
    "        if (a%i==0):\n",
    "            primo=False\n",
    "    if (primo):\n",
    "        print(a)\n",
    "    else:\n",
    "        primo=True\n",
    "    a+=1\n",
    "print('Cantidad de Ciclos:'+str(ciclos))"
   ]
  },
  {
   "cell_type": "code",
   "execution_count": 84,
   "metadata": {},
   "outputs": [
    {
     "name": "stdout",
     "output_type": "stream",
     "text": [
      "0\n",
      "1\n",
      "2\n",
      "3\n",
      "5\n",
      "7\n",
      "11\n",
      "13\n",
      "17\n",
      "19\n",
      "23\n",
      "29\n",
      "Cantidad de Ciclos:134\n"
     ]
    }
   ],
   "source": [
    "a=0\n",
    "tope=30\n",
    "primo=True\n",
    "ciclos=0\n",
    "\n",
    "while a<tope:\n",
    "    for i in range(2,a):\n",
    "        ciclos+=1\n",
    "        if (a%i==0):\n",
    "            primo=False\n",
    "            break\n",
    "    if (primo):\n",
    "        print(a)\n",
    "    else:\n",
    "        primo=True\n",
    "    a+=1\n",
    "print('Cantidad de Ciclos:'+str(ciclos))"
   ]
  },
  {
   "attachments": {},
   "cell_type": "markdown",
   "metadata": {},
   "source": [
    "12) Si la cantidad de números que se evalúa es mayor a treinta, esa optimización crece?"
   ]
  },
  {
   "cell_type": "code",
   "execution_count": 100,
   "metadata": {},
   "outputs": [
    {
     "name": "stdout",
     "output_type": "stream",
     "text": [
      "0\n",
      "1\n",
      "2\n",
      "3\n",
      "5\n",
      "7\n",
      "11\n",
      "13\n",
      "17\n",
      "19\n",
      "23\n",
      "29\n",
      "31\n",
      "37\n",
      "41\n",
      "43\n",
      "47\n",
      "53\n",
      "59\n",
      "61\n",
      "67\n",
      "71\n",
      "73\n",
      "79\n",
      "83\n",
      "89\n",
      "97\n",
      "Cantidad de Ciclos:4753\n"
     ]
    }
   ],
   "source": [
    "a=0\n",
    "tope=100\n",
    "primo=True\n",
    "ciclos_sin_break=0\n",
    "\n",
    "while a<tope:\n",
    "    for i in range(2,a):\n",
    "        ciclos_sin_break+=1\n",
    "        if (a%i==0):\n",
    "            primo=False\n",
    "    if (primo):\n",
    "        print(a)\n",
    "    else:\n",
    "        primo=True\n",
    "    a+=1\n",
    "print('Cantidad de Ciclos:'+str(ciclos_sin_break))"
   ]
  },
  {
   "cell_type": "code",
   "execution_count": 101,
   "metadata": {},
   "outputs": [
    {
     "name": "stdout",
     "output_type": "stream",
     "text": [
      "0\n",
      "1\n",
      "2\n",
      "3\n",
      "5\n",
      "7\n",
      "11\n",
      "13\n",
      "17\n",
      "19\n",
      "23\n",
      "29\n",
      "31\n",
      "37\n",
      "41\n",
      "43\n",
      "47\n",
      "53\n",
      "59\n",
      "61\n",
      "67\n",
      "71\n",
      "73\n",
      "79\n",
      "83\n",
      "89\n",
      "97\n",
      "Cantidad de Ciclos:1132\n",
      "Se optimizo a un:0.2381653692404797% de ciclos con break\n"
     ]
    }
   ],
   "source": [
    "a=0\n",
    "tope=100\n",
    "primo=True\n",
    "ciclos_con_break=0\n",
    "\n",
    "while a<tope:\n",
    "    for i in range(2,a):\n",
    "        ciclos_con_break+=1\n",
    "        if (a%i==0):\n",
    "            primo=False\n",
    "            break\n",
    "    if (primo):\n",
    "        print(a)\n",
    "    else:\n",
    "        primo=True\n",
    "    a+=1\n",
    "print('Cantidad de Ciclos:'+str(ciclos_con_break))\n",
    "print('Se optimizo a un:'+str(ciclos_con_break/ciclos_sin_break)+'% de ciclos con break')"
   ]
  },
  {
   "attachments": {},
   "cell_type": "markdown",
   "metadata": {},
   "source": [
    "13) Aplicando continue, armar un ciclo while que solo imprima los valores divisibles por 12, dentro del rango de números de 100 a 300"
   ]
  },
  {
   "cell_type": "code",
   "execution_count": 108,
   "metadata": {},
   "outputs": [
    {
     "name": "stdout",
     "output_type": "stream",
     "text": [
      "108 es divisible por 12\n",
      "120 es divisible por 12\n",
      "132 es divisible por 12\n",
      "144 es divisible por 12\n",
      "156 es divisible por 12\n",
      "168 es divisible por 12\n",
      "180 es divisible por 12\n",
      "192 es divisible por 12\n",
      "204 es divisible por 12\n",
      "216 es divisible por 12\n",
      "228 es divisible por 12\n",
      "240 es divisible por 12\n",
      "252 es divisible por 12\n",
      "264 es divisible por 12\n",
      "276 es divisible por 12\n",
      "288 es divisible por 12\n",
      "300 es divisible por 12\n"
     ]
    }
   ],
   "source": [
    "n=99\n",
    "while n<=300:\n",
    "    n+=1\n",
    "    if n%12!=0:\n",
    "        continue\n",
    "    print(n,'es divisible por 12')\n",
    "\n",
    "\n"
   ]
  },
  {
   "attachments": {},
   "cell_type": "markdown",
   "metadata": {},
   "source": [
    "14) Utilizar la función **input()** que permite hacer ingresos por teclado, para encontrar números primos y dar la opción al usario de buscar el siguiente"
   ]
  },
  {
   "cell_type": "code",
   "execution_count": 129,
   "metadata": {},
   "outputs": [
    {
     "name": "stdout",
     "output_type": "stream",
     "text": [
      "1\n",
      "¿Desea encontrar el siguiente número primo?\n",
      "2\n",
      "¿Desea encontrar el siguiente número primo?\n",
      "3\n",
      "¿Desea encontrar el siguiente número primo?\n",
      "Se finaliza el proceso\n"
     ]
    }
   ],
   "source": [
    "n = 1\n",
    "sigue = 1\n",
    "primo = True\n",
    "while (sigue == 1):\n",
    "    for div in range(2, n):\n",
    "        if (n % div == 0):\n",
    "            primo = False\n",
    "            break\n",
    "    if (primo):\n",
    "        print(n)\n",
    "        print('¿Desea encontrar el siguiente número primo?')\n",
    "        if (input() != '1'):\n",
    "            print('Se finaliza el proceso')\n",
    "            break\n",
    "    else:\n",
    "        primo = True\n",
    "    n += 1"
   ]
  },
  {
   "attachments": {},
   "cell_type": "markdown",
   "metadata": {},
   "source": [
    "15) Crear un ciclo while que encuentre dentro del rango de 100 a 300 el primer número divisible por 3 y además múltiplo de 6"
   ]
  },
  {
   "cell_type": "code",
   "execution_count": 135,
   "metadata": {},
   "outputs": [
    {
     "name": "stdout",
     "output_type": "stream",
     "text": [
      "102 es divisible por 3 y multiplo de 6\n"
     ]
    }
   ],
   "source": [
    "n=99\n",
    "while n<=300:\n",
    "    n+=1\n",
    "    if n%3==0:\n",
    "        if n%6==0:\n",
    "            print(n,'es divisible por 3 y multiplo de 6')\n",
    "            break\n",
    "    else:\n",
    "        continue"
   ]
  }
 ],
 "metadata": {
  "interpreter": {
   "hash": "c85384e4cb51c8b72350f3a8712cc8351fdc3955e32a27f9b60c6242ab125f01"
  },
  "kernelspec": {
   "display_name": "Python 3 (ipykernel)",
   "language": "python",
   "name": "python3"
  },
  "language_info": {
   "codemirror_mode": {
    "name": "ipython",
    "version": 3
   },
   "file_extension": ".py",
   "mimetype": "text/x-python",
   "name": "python",
   "nbconvert_exporter": "python",
   "pygments_lexer": "ipython3",
   "version": "3.11.4"
  }
 },
 "nbformat": 4,
 "nbformat_minor": 4
}
