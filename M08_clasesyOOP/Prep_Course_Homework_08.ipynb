{
 "cells": [
  {
   "attachments": {},
   "cell_type": "markdown",
   "metadata": {},
   "source": [
    "## Clases y Programación Orientada a Objetos"
   ]
  },
  {
   "attachments": {},
   "cell_type": "markdown",
   "metadata": {},
   "source": [
    "1) Crear la clase vehículo que contenga los atributos:<br>\n",
    "Color<br>\n",
    "Si es moto, auto, camioneta ó camión<br>\n",
    "Cilindrada del motor"
   ]
  },
  {
   "cell_type": "code",
   "execution_count": 1,
   "metadata": {},
   "outputs": [],
   "source": [
    "class Vehiculo:\n",
    "    def __init__(self,color,clase,cilindrada):\n",
    "        self.color=color\n",
    "        self.clase=clase\n",
    "        self.cilindrada=cilindrada\n",
    "    "
   ]
  },
  {
   "attachments": {},
   "cell_type": "markdown",
   "metadata": {},
   "source": [
    "2) A la clase Vehiculo creada en el punto 1, agregar los siguientes métodos:<br>\n",
    "Acelerar<br>\n",
    "Frenar<br>\n",
    "Doblar<br>"
   ]
  },
  {
   "cell_type": "code",
   "execution_count": 5,
   "metadata": {},
   "outputs": [],
   "source": [
    "class Vehiculo:\n",
    "    def __init__(self,color,clase,cilindrada):\n",
    "        self.color=color\n",
    "        self.clase=clase\n",
    "        self.cilindrada=cilindrada\n",
    "        self.velocidad=0\n",
    "        self.direccion=0\n",
    "\n",
    "    def acelerar(self,vel):\n",
    "        self.velocidad+=vel\n",
    "\n",
    "    def frenar(self,vel):\n",
    "        self.velocidad-=vel\n",
    "\n",
    "    def doblar(self,grados):\n",
    "        self.direccion+=grados"
   ]
  },
  {
   "attachments": {},
   "cell_type": "markdown",
   "metadata": {},
   "source": [
    "3) Instanciar 3 objetos de la clase vehículo y ejecutar sus métodos, probar luego el resultado"
   ]
  },
  {
   "cell_type": "code",
   "execution_count": 17,
   "metadata": {},
   "outputs": [],
   "source": [
    "a1=Vehiculo('Rojo','Auto',2000)\n",
    "a2=Vehiculo('Verde','Camion',4500)\n",
    "a3=Vehiculo('Blanco','Moto',500)"
   ]
  },
  {
   "cell_type": "code",
   "execution_count": 18,
   "metadata": {},
   "outputs": [],
   "source": [
    "a1.acelerar(50)\n",
    "a2.acelerar(80)\n",
    "a3.acelerar(40)\n",
    "\n",
    "a1.doblar(30)\n",
    "a2.doblar(50)\n",
    "a3.doblar(20)\n",
    "\n",
    "a2.frenar(-80)\n"
   ]
  },
  {
   "attachments": {},
   "cell_type": "markdown",
   "metadata": {},
   "source": [
    "4) Agregar a la clase Vehiculo, un método que muestre su estado, es decir, a que velocidad se encuentra y su dirección. Y otro método que muestre color, tipo y cilindrada"
   ]
  },
  {
   "cell_type": "code",
   "execution_count": 19,
   "metadata": {},
   "outputs": [],
   "source": [
    "class Vehiculo:\n",
    "    def __init__(self,color,clase,cilindrada):\n",
    "        self.color=color\n",
    "        self.clase=clase\n",
    "        self.cilindrada=cilindrada\n",
    "        self.velocidad=0\n",
    "        self.direccion=0\n",
    "\n",
    "    def acelerar(self,vel):\n",
    "        self.velocidad+=vel\n",
    "\n",
    "    def frenar(self,vel):\n",
    "        self.velocidad-=vel\n",
    "\n",
    "    def doblar(self,grados):\n",
    "        self.direccion+=grados\n",
    "    \n",
    "    def estado(self):\n",
    "        print('La velocidad es:',self.velocidad,'KHM','- Direccion:',self.direccion,'Grados')\n",
    "\n",
    "    def detalles(self):\n",
    "        print('Mi color es:',self.color,'Mi tipo es:',self.clase,'Mi cilindrada es:',self.cilindrada,'CC')\n",
    "    \n",
    "    "
   ]
  },
  {
   "cell_type": "code",
   "execution_count": 20,
   "metadata": {},
   "outputs": [
    {
     "name": "stdout",
     "output_type": "stream",
     "text": [
      "Mi color es: Rojo Mi tipo es: Auto Mi cilindrada es: 2000 CC\n",
      "La velocidad es: 160 KHM - Direccion: 50 Grados\n"
     ]
    }
   ],
   "source": [
    "a1.detalles()\n",
    "a2.estado()\n"
   ]
  },
  {
   "cell_type": "code",
   "execution_count": 21,
   "metadata": {},
   "outputs": [
    {
     "name": "stdout",
     "output_type": "stream",
     "text": [
      "La velocidad es: 160 KHM - Direccion: 50 Grados\n",
      "La velocidad es: 130 KHM - Direccion: 50 Grados\n"
     ]
    }
   ],
   "source": [
    "a2.estado()\n",
    "a2.frenar(30)\n",
    "a2.estado()"
   ]
  },
  {
   "attachments": {},
   "cell_type": "markdown",
   "metadata": {},
   "source": [
    "5) Crear una clase que permita utilizar las funciones creadas en la práctica del módulo 7<br>\n",
    "Verificar Primo<br>\n",
    "Valor modal<br>\n",
    "Conversión grados<br>\n",
    "Factorial<br>"
   ]
  },
  {
   "cell_type": "code",
   "execution_count": 11,
   "metadata": {},
   "outputs": [],
   "source": [
    "class Funciones_Matematicas:\n",
    "    def __init__(self) -> None:\n",
    "        pass\n",
    "\n",
    "    def verificarprimo(self,nro):\n",
    "        es_primo = True  # Variable para almacenar el resultado de la verificación de número primo\n",
    "        for i in range(2, nro):  # Iteración sobre los números desde 2 hasta nro-1\n",
    "            if nro % i == 0:  # Verificación si nro es divisible por i (no es primo)\n",
    "                es_primo = False  # Se marca la variable como False indicando que el número no es primo\n",
    "                break  # Se rompe el bucle ya que no es necesario continuar la verificación\n",
    "        return es_primo\n",
    "    \n",
    "    def valor_modal(self,lista,menor):\n",
    "        lista_unicos = []\n",
    "        lista_repeticiones = []\n",
    "        if len(lista) == 0:\n",
    "            return None\n",
    "        for elemento in lista:\n",
    "            if elemento in lista_unicos:\n",
    "                i = lista_unicos.index(elemento)\n",
    "                lista_repeticiones[i] += 1\n",
    "            else:\n",
    "                lista_unicos.append(elemento)\n",
    "                lista_repeticiones.append(1)\n",
    "        moda = lista_unicos[0]\n",
    "        maximo = lista_repeticiones[0]\n",
    "        for i, elemento in enumerate(lista_unicos):\n",
    "            if lista_repeticiones[i] > maximo:\n",
    "                moda = lista_unicos[i]\n",
    "                maximo = lista_repeticiones[i]\n",
    "        return moda, maximo\n",
    "    \n",
    "    def conviertegrados(self,valor,origen,destino):\n",
    "    \n",
    "        resultado=0\n",
    "\n",
    "        if origen=='Celsius':\n",
    "            if destino=='Farenheit':\n",
    "                resultado=(valor*9/5)+32\n",
    "            \n",
    "            elif destino=='Celsius':\n",
    "                 resultado=valor\n",
    "             \n",
    "            else:\n",
    "                 resultado=(valor+273.15)\n",
    "             \n",
    "        elif origen=='Farenheit':\n",
    "            if destino=='Kelvin':\n",
    "                resultado=(5/9*(valor-32)+273.15)\n",
    "            \n",
    "            elif destino=='Celsius':\n",
    "                resultado=(valor-32)*5/9\n",
    "            \n",
    "            else:\n",
    "                resultado=valor\n",
    "        else:\n",
    "            if destino=='Celsius':\n",
    "                resultado=(valor-273.15)\n",
    "            \n",
    "            elif destino=='Farenheit':\n",
    "                resultado=(1.8*(valor-273.15)+32)\n",
    "            else:\n",
    "                resultado=valor\n",
    "                     \n",
    "        return resultado\n",
    "    \n",
    "    def factorial(self, numero):\n",
    "        if(type(numero) != int):\n",
    "            return 'El numero debe ser un entero'\n",
    "        if(numero < 0):\n",
    "            return 'El numero debe ser pisitivo'\n",
    "        if (numero > 1):\n",
    "            numero = numero * self.factorial(numero - 1)\n",
    "        return numero"
   ]
  },
  {
   "cell_type": "code",
   "execution_count": 14,
   "metadata": {},
   "outputs": [],
   "source": [
    "f=Funciones_Matematicas()"
   ]
  },
  {
   "attachments": {},
   "cell_type": "markdown",
   "metadata": {},
   "source": [
    "6) Probar las funciones incorporadas en la clase del punto 5"
   ]
  },
  {
   "cell_type": "code",
   "execution_count": 86,
   "metadata": {},
   "outputs": [
    {
     "data": {
      "text/plain": [
       "True"
      ]
     },
     "execution_count": 86,
     "metadata": {},
     "output_type": "execute_result"
    }
   ],
   "source": [
    "f.verificarprimo(5)"
   ]
  },
  {
   "cell_type": "code",
   "execution_count": 87,
   "metadata": {},
   "outputs": [
    {
     "name": "stdout",
     "output_type": "stream",
     "text": [
      "El valor modal es 1 y se repite 5 Veces\n"
     ]
    }
   ],
   "source": [
    "lis1=[1,2,3,4,5,6,7,8,1,1,1,1]\n",
    "moda,repe=f.valor_modal(lis1,True)\n",
    "print('El valor modal es',moda,'y se repite',repe,'Veces')\n"
   ]
  },
  {
   "cell_type": "code",
   "execution_count": 15,
   "metadata": {},
   "outputs": [
    {
     "data": {
      "text/plain": [
       "86.0"
      ]
     },
     "execution_count": 15,
     "metadata": {},
     "output_type": "execute_result"
    }
   ],
   "source": [
    "f.conviertegrados(30, 'Celsius', 'Farenheit')"
   ]
  },
  {
   "cell_type": "code",
   "execution_count": 89,
   "metadata": {},
   "outputs": [
    {
     "data": {
      "text/plain": [
       "120"
      ]
     },
     "execution_count": 89,
     "metadata": {},
     "output_type": "execute_result"
    }
   ],
   "source": [
    "f.factorial(5)"
   ]
  },
  {
   "attachments": {},
   "cell_type": "markdown",
   "metadata": {},
   "source": [
    "7) Es necesario que la clase creada en el punto 5 contenga una lista, sobre la cual se apliquen las funciones incorporadas"
   ]
  },
  {
   "cell_type": "code",
   "execution_count": 8,
   "metadata": {},
   "outputs": [],
   "source": [
    "class Funciones_Matematicas:\n",
    "    def __init__(self,listanum):\n",
    "        self.lista=listanum\n",
    "\n",
    "    def verificaprimo(self):\n",
    "        for i in self.lista:\n",
    "            if self.__verificarprimo(i):\n",
    "                print('El elemento',i,'Si es un nro primo')\n",
    "            else:\n",
    "                print('El elemento',i,'No es un nro primo')\n",
    "    \n",
    "    def conviertegrados(self,origen,destino):\n",
    "        for i in self.lista:\n",
    "            print(i, 'grados', origen, 'son',self.__conviertegrados(i, origen, destino),'grados',destino)\n",
    "\n",
    "    def factorial(self):\n",
    "        for i in self.lista:\n",
    "            print('El factorial de ', i, 'es', self.__factorial(i))\n",
    "    \n",
    "    def __verificarprimo(self,nro):\n",
    "        es_primo = True  \n",
    "        for i in range(2, nro):  \n",
    "            if nro % i == 0:  \n",
    "                es_primo = False  \n",
    "                break  \n",
    "        return es_primo\n",
    "    \n",
    "    def valor_modal(self,menor):\n",
    "        lista_unicos = []\n",
    "        lista_repeticiones = []\n",
    "        if len(self.lista) == 0:\n",
    "            return None\n",
    "        if menor:\n",
    "            self.lista.sort()\n",
    "        else:\n",
    "            self.lista.sort(reverse=True)\n",
    "\n",
    "        for elemento in self.lista:\n",
    "            if elemento in lista_unicos:\n",
    "                i = lista_unicos.index(elemento)\n",
    "                lista_repeticiones[i] += 1\n",
    "            else:\n",
    "                lista_unicos.append(elemento)\n",
    "                lista_repeticiones.append(1)\n",
    "        moda = lista_unicos[0]\n",
    "        maximo = lista_repeticiones[0]\n",
    "        \n",
    "        for i, elemento in enumerate(lista_unicos):\n",
    "            if lista_repeticiones[i] > maximo:\n",
    "                moda = lista_unicos[i]\n",
    "                maximo = lista_repeticiones[i]\n",
    "        return moda, maximo\n",
    "    \n",
    "    def __conviertegrados(self,valor,origen,destino):\n",
    "    \n",
    "        resultado=0\n",
    "\n",
    "        if origen=='Celsius':\n",
    "            if destino=='Farenheit':\n",
    "                resultado=(valor*9/5)+32\n",
    "            \n",
    "            elif destino=='Celsius':\n",
    "                 resultado=valor\n",
    "             \n",
    "            else:\n",
    "                 resultado=(valor+273.15)\n",
    "             \n",
    "        elif origen=='Farenheit':\n",
    "            if destino=='Kelvin':\n",
    "                resultado=(5/9*(valor-32)+273.15)\n",
    "            \n",
    "            elif destino=='Celsius':\n",
    "                resultado=(valor-32)*5/9\n",
    "            \n",
    "            else:\n",
    "                resultado=valor\n",
    "        else:\n",
    "            if destino=='Celsius':\n",
    "                resultado=(valor-273.15)\n",
    "            \n",
    "            elif destino=='Farenheit':\n",
    "                resultado=(1.8*(valor-273.15)+32)\n",
    "            else:\n",
    "                resultado=valor\n",
    "                     \n",
    "        return resultado\n",
    "    \n",
    "    def __factorial(self, numero):\n",
    "        if(type(numero) != int):\n",
    "            return 'El numero debe ser un entero'\n",
    "        if(numero < 0):\n",
    "            return 'El numero debe ser pisitivo'\n",
    "        if (numero > 1):\n",
    "            numero = numero * self.__factorial(numero - 1)\n",
    "        return numero"
   ]
  },
  {
   "cell_type": "code",
   "execution_count": 9,
   "metadata": {},
   "outputs": [],
   "source": [
    "h=Funciones_Matematicas([1,2,3,4,5,6,7,8,9,1,1,1,20])"
   ]
  },
  {
   "cell_type": "code",
   "execution_count": 10,
   "metadata": {},
   "outputs": [
    {
     "name": "stdout",
     "output_type": "stream",
     "text": [
      "1 grados Celsius son 33.8 grados Farenheit\n",
      "2 grados Celsius son 35.6 grados Farenheit\n",
      "3 grados Celsius son 37.4 grados Farenheit\n",
      "4 grados Celsius son 39.2 grados Farenheit\n",
      "5 grados Celsius son 41.0 grados Farenheit\n",
      "6 grados Celsius son 42.8 grados Farenheit\n",
      "7 grados Celsius son 44.6 grados Farenheit\n",
      "8 grados Celsius son 46.4 grados Farenheit\n",
      "9 grados Celsius son 48.2 grados Farenheit\n",
      "1 grados Celsius son 33.8 grados Farenheit\n",
      "1 grados Celsius son 33.8 grados Farenheit\n",
      "1 grados Celsius son 33.8 grados Farenheit\n",
      "20 grados Celsius son 68.0 grados Farenheit\n"
     ]
    }
   ],
   "source": [
    "h.conviertegrados('Celsius','Farenheit')"
   ]
  },
  {
   "cell_type": "code",
   "execution_count": 11,
   "metadata": {},
   "outputs": [
    {
     "name": "stdout",
     "output_type": "stream",
     "text": [
      "El elemento 1 Si es un nro primo\n",
      "El elemento 2 Si es un nro primo\n",
      "El elemento 3 Si es un nro primo\n",
      "El elemento 4 No es un nro primo\n",
      "El elemento 5 Si es un nro primo\n",
      "El elemento 6 No es un nro primo\n",
      "El elemento 7 Si es un nro primo\n",
      "El elemento 8 No es un nro primo\n",
      "El elemento 9 No es un nro primo\n",
      "El elemento 1 Si es un nro primo\n",
      "El elemento 1 Si es un nro primo\n",
      "El elemento 1 Si es un nro primo\n",
      "El elemento 20 No es un nro primo\n"
     ]
    }
   ],
   "source": [
    "h.verificaprimo()"
   ]
  },
  {
   "cell_type": "code",
   "execution_count": 52,
   "metadata": {},
   "outputs": [
    {
     "name": "stdout",
     "output_type": "stream",
     "text": [
      "El factorial de  1 es 1\n",
      "El factorial de  2 es 2\n",
      "El factorial de  3 es 6\n",
      "El factorial de  4 es 24\n",
      "El factorial de  5 es 120\n",
      "El factorial de  6 es 720\n",
      "El factorial de  7 es 5040\n",
      "El factorial de  8 es 40320\n",
      "El factorial de  9 es 362880\n",
      "El factorial de  1 es 1\n",
      "El factorial de  1 es 1\n",
      "El factorial de  1 es 1\n",
      "El factorial de  20 es 2432902008176640000\n"
     ]
    }
   ],
   "source": [
    "h.factorial()"
   ]
  },
  {
   "cell_type": "code",
   "execution_count": 53,
   "metadata": {},
   "outputs": [
    {
     "name": "stdout",
     "output_type": "stream",
     "text": [
      "El valor modal es: 1 y se repite 4 Veces\n"
     ]
    }
   ],
   "source": [
    "moda,repe=h.valor_modal(False)\n",
    "print('El valor modal es:',moda,'y se repite',repe,'Veces')"
   ]
  },
  {
   "attachments": {},
   "cell_type": "markdown",
   "metadata": {},
   "source": [
    "8) Crear un archivo .py aparte y ubicar allí la clase generada en el punto anterior. Luego realizar la importación del módulo y probar alguna de sus funciones"
   ]
  },
  {
   "cell_type": "code",
   "execution_count": 1,
   "metadata": {},
   "outputs": [],
   "source": [
    "from modulomatematicas import *"
   ]
  },
  {
   "cell_type": "code",
   "execution_count": 2,
   "metadata": {},
   "outputs": [],
   "source": [
    "mm=Fun_modulomatematicas([1,2,3,1,4,1,1])"
   ]
  },
  {
   "cell_type": "code",
   "execution_count": 3,
   "metadata": {},
   "outputs": [
    {
     "name": "stdout",
     "output_type": "stream",
     "text": [
      "El elemento 1 Si es un nro primo\n",
      "El elemento 2 Si es un nro primo\n",
      "El elemento 3 Si es un nro primo\n",
      "El elemento 1 Si es un nro primo\n",
      "El elemento 4 No es un nro primo\n",
      "El elemento 1 Si es un nro primo\n",
      "El elemento 1 Si es un nro primo\n"
     ]
    }
   ],
   "source": [
    "mm.verificaprimo()"
   ]
  },
  {
   "cell_type": "code",
   "execution_count": 4,
   "metadata": {},
   "outputs": [
    {
     "name": "stdout",
     "output_type": "stream",
     "text": [
      "1 grados Farenheit son 255.92777777777775 grados Kelvin\n",
      "2 grados Farenheit son 256.4833333333333 grados Kelvin\n",
      "3 grados Farenheit son 257.0388888888889 grados Kelvin\n",
      "1 grados Farenheit son 255.92777777777775 grados Kelvin\n",
      "4 grados Farenheit son 257.59444444444443 grados Kelvin\n",
      "1 grados Farenheit son 255.92777777777775 grados Kelvin\n",
      "1 grados Farenheit son 255.92777777777775 grados Kelvin\n"
     ]
    }
   ],
   "source": [
    "mm.conviertegrados('Farenheit','Kelvin')"
   ]
  },
  {
   "cell_type": "code",
   "execution_count": 5,
   "metadata": {},
   "outputs": [
    {
     "name": "stdout",
     "output_type": "stream",
     "text": [
      "El factorial de  1 es 1\n",
      "El factorial de  2 es 2\n",
      "El factorial de  3 es 6\n",
      "El factorial de  1 es 1\n",
      "El factorial de  4 es 24\n",
      "El factorial de  1 es 1\n",
      "El factorial de  1 es 1\n"
     ]
    }
   ],
   "source": [
    "mm.factorial()"
   ]
  },
  {
   "cell_type": "code",
   "execution_count": 12,
   "metadata": {},
   "outputs": [
    {
     "name": "stdout",
     "output_type": "stream",
     "text": [
      "El valor modal 1 se repite 4 Veces\n"
     ]
    }
   ],
   "source": [
    "mod,res=mm.valor_modal(False)\n",
    "print('El valor modal',mod,'se repite',res,'Veces')"
   ]
  }
 ],
 "metadata": {
  "interpreter": {
   "hash": "c85384e4cb51c8b72350f3a8712cc8351fdc3955e32a27f9b60c6242ab125f01"
  },
  "kernelspec": {
   "display_name": "Python 3 (ipykernel)",
   "language": "python",
   "name": "python3"
  },
  "language_info": {
   "codemirror_mode": {
    "name": "ipython",
    "version": 3
   },
   "file_extension": ".py",
   "mimetype": "text/x-python",
   "name": "python",
   "nbconvert_exporter": "python",
   "pygments_lexer": "ipython3",
   "version": "3.11.4"
  }
 },
 "nbformat": 4,
 "nbformat_minor": 4
}
